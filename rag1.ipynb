{
 "cells": [
  {
   "cell_type": "code",
   "execution_count": null,
   "id": "e9b4de96",
   "metadata": {},
   "outputs": [],
   "source": [
    "import pandas as pd\n",
    "import os\n",
    "import ast\n",
    "import numpy as np\n",
    "import pdb\n",
    "\n",
    "import google.generativeai as genai  # ✅ Only this import is needed for Gemini\n",
    "\n",
    "genai.configure(api_key=\"\")  # Replace with your actual API key\n",
    "\n",
    "model = genai.GenerativeModel('gemini-2.0-flash')  # or 'gemini-1.5-flash'\n",
    "\n",
    "instruction = \"Think of you as a tourist guide at USA and you know many attractive places at california\"\n",
    "question = \"What are the best places to be visited in california?\"\n",
    "\n",
    "full_prompt = instruction + \"\\n\\n\" +question\n",
    "\n",
    "response = model.generate_content(full_prompt)\n",
    "\n",
    "print(response.text)"
   ]
  }
 ],
 "metadata": {
  "kernelspec": {
   "display_name": "Python 3",
   "language": "python",
   "name": "python3"
  },
  "language_info": {
   "codemirror_mode": {
    "name": "ipython",
    "version": 3
   },
   "file_extension": ".py",
   "mimetype": "text/x-python",
   "name": "python",
   "nbconvert_exporter": "python",
   "pygments_lexer": "ipython3",
   "version": "3.11.9"
  }
 },
 "nbformat": 4,
 "nbformat_minor": 5
}
